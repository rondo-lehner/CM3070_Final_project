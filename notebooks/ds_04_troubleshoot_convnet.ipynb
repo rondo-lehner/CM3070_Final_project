{
 "cells": [
  {
   "cell_type": "code",
   "execution_count": 56,
   "id": "6b4f98ec-ec28-46ae-8491-e3fef9bbbcdb",
   "metadata": {},
   "outputs": [],
   "source": [
    "from src.data.pipelines import convnet_pipeline\n",
    "from src.models import early_convnet\n",
    "\n",
    "import os\n",
    "import datetime\n",
    "\n",
    "import matplotlib.pyplot as plt\n",
    "import tensorflow as tf\n",
    "import numpy as np"
   ]
  },
  {
   "cell_type": "code",
   "execution_count": 53,
   "id": "a4c182aa-b134-4c4c-a48d-19aa0ab75cc4",
   "metadata": {},
   "outputs": [],
   "source": [
    "# Load the TensorBoard notebook extension\n",
    "%load_ext tensorboard"
   ]
  },
  {
   "cell_type": "code",
   "execution_count": 64,
   "id": "e26d171e-8342-4a40-871e-7a3a5f5ac2bb",
   "metadata": {},
   "outputs": [],
   "source": [
    "# rm -rf ./logs/"
   ]
  },
  {
   "cell_type": "code",
   "execution_count": 51,
   "id": "51bef328-ca4b-439a-b6a6-7728e1db60d1",
   "metadata": {},
   "outputs": [],
   "source": [
    "## Parameters\n",
    "# Pipeline\n",
    "BATCH_SIZE_IMAGES = 1\n",
    "BATCH_SIZE_PATCHES = 1\n",
    "IMAGE_SIZE = 612\n",
    "PATCH_SIZE = 40\n",
    "PATCH_SIZE_ANNOTATION = 2\n",
    "PATCH_STRIDE = 20\n",
    "SLICE_TRAIN = ':10'\n",
    "SLICE_VALID = '10:12'\n",
    "SLICE_TEST = '12:20'\n",
    "\n",
    "# Training\n",
    "EPOCHS = 4\n",
    "CHECKPOINT_FILEPATH = os.path.join(os.getcwd(), 'models', 'ckpt', 'early_convnet', 'weights.{epoch:02d}-{val_loss:.2f}.ckpt')\n",
    "CLASS_WEIGHTS = {\n",
    "        0: 6.070,    # urban_land\n",
    "        1: 1.,       # agriculture_land\n",
    "        2: 5.559,    # rangeland\n",
    "        3: 4.128,    # forest_land\n",
    "        4: 15.176,   # water\n",
    "        5: 9.244,    # barren_land\n",
    "        6: 100.       # unknown - Note: not to scale with respect to the others but not that important for the overall classification\n",
    "}"
   ]
  },
  {
   "cell_type": "code",
   "execution_count": 65,
   "id": "aecd7239-31eb-49a0-bc6f-a91d0d71e73e",
   "metadata": {},
   "outputs": [],
   "source": [
    "input_pipeline = convnet_pipeline.ConvnetPipeline(\n",
    "    SLICE_TRAIN,\n",
    "    SLICE_VALID,\n",
    "    SLICE_TEST,\n",
    "    BATCH_SIZE_IMAGES,\n",
    "    BATCH_SIZE_PATCHES,\n",
    "    IMAGE_SIZE,\n",
    "    PATCH_SIZE,\n",
    "    PATCH_SIZE_ANNOTATION,\n",
    "    PATCH_STRIDE\n",
    ")"
   ]
  },
  {
   "cell_type": "code",
   "execution_count": 5,
   "id": "ebb7e66c-13e6-4847-b896-4d2e724686ec",
   "metadata": {},
   "outputs": [],
   "source": [
    "def display(display_list):\n",
    "    plt.figure(figsize=(3, 3))\n",
    "\n",
    "    title = ['Input Image', 'True Mask', 'Predicted Mask']\n",
    "\n",
    "    print(len(display_list))\n",
    "    for i in range(len(display_list)):\n",
    "        plt.subplot(1, len(display_list), i+1)\n",
    "        plt.title(title[i])\n",
    "        plt.imshow(tf.keras.utils.array_to_img(display_list[i]))\n",
    "        plt.axis('off')\n",
    "    plt.show()"
   ]
  },
  {
   "cell_type": "code",
   "execution_count": 6,
   "id": "16630bae-998a-4471-89a6-d1c54b132884",
   "metadata": {},
   "outputs": [
    {
     "name": "stdout",
     "output_type": "stream",
     "text": [
      "tf.Tensor(False, shape=(), dtype=bool)\n"
     ]
    }
   ],
   "source": [
    "for i, m in input_pipeline.train.unbatch().take(1):\n",
    "    print(tf.reduce_all(tf.argmax(m, axis=2)!=1))"
   ]
  },
  {
   "cell_type": "code",
   "execution_count": 66,
   "id": "67c4d4c3-c6dc-44ee-ae6d-f6f5b7df2b91",
   "metadata": {},
   "outputs": [],
   "source": [
    "train_min = input_pipeline.train.unbatch().shuffle(buffer_size=20000).filter(lambda i, m: tf.reduce_all(tf.argmax(m, axis=2)!=1)).batch(BATCH_SIZE_PATCHES)\n",
    "valid_min = input_pipeline.valid.unbatch().filter(lambda i, m: tf.reduce_all(tf.argmax(m, axis=2)!=1)).batch(BATCH_SIZE_PATCHES)"
   ]
  },
  {
   "cell_type": "code",
   "execution_count": 67,
   "id": "dd8ff9a5-e1d6-4ba5-b12d-0e4ceac45a5c",
   "metadata": {},
   "outputs": [],
   "source": [
    "log_dir = \"logs/fit/\" + datetime.datetime.now().strftime(\"%Y%m%d-%H%M%S\")\n",
    "tensorboard_callback = tf.keras.callbacks.TensorBoard(log_dir=log_dir, histogram_freq=1)"
   ]
  },
  {
   "cell_type": "code",
   "execution_count": 68,
   "id": "a396ec8e-27de-4122-a92f-999bd3aab61f",
   "metadata": {},
   "outputs": [
    {
     "name": "stdout",
     "output_type": "stream",
     "text": [
      "Epoch 1/4\n",
      "2790/2790 [==============================] - 37s 11ms/step - loss: 8.9900 - mse: 0.0995 - cce: 1.3486 - val_loss: 0.9763 - val_mse: 0.0788 - val_cce: 0.9763\n",
      "Epoch 2/4\n",
      "2790/2790 [==============================] - 25s 7ms/step - loss: 7.9116 - mse: 0.0909 - cce: 1.1941 - val_loss: 1.0131 - val_mse: 0.0784 - val_cce: 1.0131\n",
      "Epoch 3/4\n",
      "2790/2790 [==============================] - 27s 8ms/step - loss: 7.6482 - mse: 0.0877 - cce: 1.1487 - val_loss: 1.0783 - val_mse: 0.0834 - val_cce: 1.0783\n",
      "Epoch 4/4\n",
      "2790/2790 [==============================] - 26s 8ms/step - loss: 7.4124 - mse: 0.0847 - cce: 1.1123 - val_loss: 1.0922 - val_mse: 0.0879 - val_cce: 1.0922\n"
     ]
    },
    {
     "data": {
      "text/plain": [
       "<keras.src.callbacks.History at 0x7fc1205cccd0>"
      ]
     },
     "execution_count": 68,
     "metadata": {},
     "output_type": "execute_result"
    }
   ],
   "source": [
    "loss_fn = tf.keras.losses.CategoricalCrossentropy()\n",
    "optimizer = tf.keras.optimizers.Adam()\n",
    "\n",
    "model = early_convnet.EarlyConvnet()\n",
    "model.build((None, PATCH_SIZE, PATCH_SIZE, 3))\n",
    "model.compile(\n",
    "    optimizer = optimizer,\n",
    "    loss = loss_fn,\n",
    "    metrics = ['mse', tf.keras.metrics.CategoricalCrossentropy(name='cce')]\n",
    ")\n",
    "\n",
    "model_checkpoint_callback = tf.keras.callbacks.ModelCheckpoint(\n",
    "    filepath=CHECKPOINT_FILEPATH,\n",
    "    save_weights_only=True,\n",
    "    monitor='val_cce',\n",
    "    save_freq='epoch'\n",
    ")\n",
    "\n",
    "model.fit(\n",
    "    train_min,\n",
    "    epochs=EPOCHS,\n",
    "    validation_data=valid_min,\n",
    "    class_weight=CLASS_WEIGHTS,\n",
    "    callbacks=[tensorboard_callback]\n",
    "    # callbacks=[model_checkpoint_callback]\n",
    ")"
   ]
  },
  {
   "cell_type": "code",
   "execution_count": 91,
   "id": "3064cc17-0813-4766-9d8f-3a55fb0bfabb",
   "metadata": {},
   "outputs": [
    {
     "name": "stdout",
     "output_type": "stream",
     "text": [
      "27/27 [==============================] - 0s 8ms/step\n",
      "1\n"
     ]
    },
    {
     "data": {
      "image/png": "[encoded data removed]",
      "text/plain": [
       "<Figure size 300x300 with 1 Axes>"
      ]
     },
     "metadata": {},
     "output_type": "display_data"
    },
    {
     "name": "stdout",
     "output_type": "stream",
     "text": [
      "1\n"
     ]
    },
    {
     "data": {
      "image/png": "[encoded data removed]",
      "text/plain": [
       "<Figure size 300x300 with 1 Axes>"
      ]
     },
     "metadata": {},
     "output_type": "display_data"
    },
    {
     "name": "stdout",
     "output_type": "stream",
     "text": [
      "27/27 [==============================] - 0s 8ms/step\n",
      "1\n"
     ]
    },
    {
     "data": {
      "image/png": "[encoded data removed]",
      "text/plain": [
       "<Figure size 300x300 with 1 Axes>"
      ]
     },
     "metadata": {},
     "output_type": "display_data"
    },
    {
     "name": "stdout",
     "output_type": "stream",
     "text": [
      "1\n"
     ]
    },
    {
     "data": {
      "image/png": "[encoded data removed]",
      "text/plain": [
       "<Figure size 300x300 with 1 Axes>"
      ]
     },
     "metadata": {},
     "output_type": "display_data"
    }
   ],
   "source": [
    "for i, m in input_pipeline.test.take(2):\n",
    "    # print(tf.unique(tf.argmax(tf.reshape(m, shape=[-1, 7]), axis=1)))\n",
    "    gt = m\n",
    "    y = model.predict(i)\n",
    "    gt_mask = tf.reshape(tf.argmax(input=gt, axis=3), shape=(1, 29, 29, 1))\n",
    "    mask = tf.reshape(tf.argmax(input=y, axis=3), shape=(1, 29, 29, 1))\n",
    "    display(mask)\n",
    "    display(gt_mask)"
   ]
  },
  {
   "cell_type": "code",
   "execution_count": 85,
   "id": "ed091e86-6f8b-4a4d-9f45-655257cfa6de",
   "metadata": {},
   "outputs": [
    {
     "data": {
      "text/plain": [
       "(841, 1, 1, 7)"
      ]
     },
     "execution_count": 85,
     "metadata": {},
     "output_type": "execute_result"
    }
   ],
   "source": [
    "y.shape"
   ]
  },
  {
   "cell_type": "code",
   "execution_count": 89,
   "id": "8057fb5c-69e6-4c90-be2f-d7592a4d46b6",
   "metadata": {},
   "outputs": [],
   "source": [
    "gt_mask = tf.reshape(tf.argmax(input=gt, axis=3), shape=(1, 29, 29, 1))"
   ]
  },
  {
   "cell_type": "code",
   "execution_count": 90,
   "id": "be6136e0-8a89-4c07-8575-5703ddb18f78",
   "metadata": {},
   "outputs": [
    {
     "name": "stdout",
     "output_type": "stream",
     "text": [
      "1\n"
     ]
    },
    {
     "data": {
      "image/png": "[encoded data removed]",
      "text/plain": [
       "<Figure size 300x300 with 1 Axes>"
      ]
     },
     "metadata": {},
     "output_type": "display_data"
    }
   ],
   "source": [
    "display(gt_mask)"
   ]
  },
  {
   "cell_type": "code",
   "execution_count": 75,
   "id": "97c17702-bd8f-4021-a8fa-825b83d68d76",
   "metadata": {},
   "outputs": [
    {
     "name": "stdout",
     "output_type": "stream",
     "text": [
      "1\n"
     ]
    },
    {
     "data": {
      "image/png": "[encoded data removed]",
      "text/plain": [
       "<Figure size 300x300 with 1 Axes>"
      ]
     },
     "metadata": {},
     "output_type": "display_data"
    }
   ],
   "source": [
    "mask = tf.reshape(tf.argmax(input=y, axis=3), shape=(1, 29, 29, 1))\n",
    "display(mask)"
   ]
  },
  {
   "cell_type": "code",
   "execution_count": 48,
   "id": "b203daf6-5fd4-4129-a9d6-b24bec42ae1b",
   "metadata": {},
   "outputs": [
    {
     "name": "stdout",
     "output_type": "stream",
     "text": [
      "1/1 [==============================] - 0s 103ms/step\n"
     ]
    }
   ],
   "source": [
    "for i, m in train_min.take(1):\n",
    "    y = model.predict(i)"
   ]
  },
  {
   "cell_type": "code",
   "execution_count": 50,
   "id": "da01e77c-0399-4b0a-b6f0-f15012a3b103",
   "metadata": {},
   "outputs": [
    {
     "data": {
      "text/plain": [
       "<tf.Tensor: shape=(1, 1, 1), dtype=int64, numpy=array([[[4]]])>"
      ]
     },
     "execution_count": 50,
     "metadata": {},
     "output_type": "execute_result"
    }
   ],
   "source": [
    "tf.argmax(y, axis=3)"
   ]
  }
 ],
 "metadata": {
  "kernelspec": {
   "display_name": "Python 3 (ipykernel)",
   "language": "python",
   "name": "python3"
  },
  "language_info": {
   "codemirror_mode": {
    "name": "ipython",
    "version": 3
   },
   "file_extension": ".py",
   "mimetype": "text/x-python",
   "name": "python",
   "nbconvert_exporter": "python",
   "pygments_lexer": "ipython3",
   "version": "3.10.12"
  }
 },
 "nbformat": 4,
 "nbformat_minor": 5
}
