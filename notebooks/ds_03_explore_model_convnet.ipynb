{
 "cells": [
  {
   "cell_type": "markdown",
   "id": "cdf0c256-3310-4718-880d-b7a3e22538fb",
   "metadata": {},
   "source": [
    "# Explore the EarlyConvNet model class"
   ]
  },
  {
   "cell_type": "code",
   "execution_count": 9,
   "id": "4c52de95-0516-45d7-9e5c-b3fa1a81a0e9",
   "metadata": {},
   "outputs": [],
   "source": [
    "from src.models import early_convnet"
   ]
  },
  {
   "cell_type": "code",
   "execution_count": 2,
   "id": "0b19c0e5-5da8-4476-868a-5d06d429b92a",
   "metadata": {},
   "outputs": [
    {
     "name": "stderr",
     "output_type": "stream",
     "text": [
      "2023-12-31 17:42:10.467770: I tensorflow/core/common_runtime/process_util.cc:146] Creating new thread pool with default inter op setting: 2. Tune using inter_op_parallelism_threads for best performance.\n"
     ]
    }
   ],
   "source": [
    "model = early_convnet.EarlyConvnet()"
   ]
  },
  {
   "cell_type": "code",
   "execution_count": 3,
   "id": "3121f9dc-fdac-4ecb-9673-9cc3bc0fe420",
   "metadata": {},
   "outputs": [],
   "source": [
    "model.build((None, 40,40,3))\n"
   ]
  },
  {
   "cell_type": "code",
   "execution_count": 10,
   "id": "fa70aad3-9241-4257-bc84-0020811c2e54",
   "metadata": {},
   "outputs": [
    {
     "name": "stdout",
     "output_type": "stream",
     "text": [
      "Model: \"early_convnet\"\n",
      "_________________________________________________________________\n",
      " Layer (type)                Output Shape              Param #   \n",
      "=================================================================\n",
      " C1 (Conv2D)                 multiple                  888       \n",
      "                                                                 \n",
      " S2 (Subsampling)            multiple                  12        \n",
      "                                                                 \n",
      " C3 (Conv2D)                 multiple                  3472      \n",
      "                                                                 \n",
      " S4 (Subsampling)            multiple                  32        \n",
      "                                                                 \n",
      " C5 (Conv2D)                 multiple                  23080     \n",
      "                                                                 \n",
      " F6 (Dense)                  multiple                  287       \n",
      "                                                                 \n",
      "=================================================================\n",
      "Total params: 27771 (108.48 KB)\n",
      "Trainable params: 27771 (108.48 KB)\n",
      "Non-trainable params: 0 (0.00 Byte)\n",
      "_________________________________________________________________\n"
     ]
    }
   ],
   "source": [
    "model.summary()"
   ]
  }
 ],
 "metadata": {
  "kernelspec": {
   "display_name": "Python 3 (ipykernel)",
   "language": "python",
   "name": "python3"
  },
  "language_info": {
   "codemirror_mode": {
    "name": "ipython",
    "version": 3
   },
   "file_extension": ".py",
   "mimetype": "text/x-python",
   "name": "python",
   "nbconvert_exporter": "python",
   "pygments_lexer": "ipython3",
   "version": "3.10.12"
  }
 },
 "nbformat": 4,
 "nbformat_minor": 5
}
