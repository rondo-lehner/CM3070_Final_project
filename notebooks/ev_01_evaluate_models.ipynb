{
 "cells": [
  {
   "cell_type": "markdown",
   "id": "ed53b72f-60e2-4e4b-ab3b-67aeb2c7434c",
   "metadata": {},
   "source": [
    "# Trained model evaluation"
   ]
  },
  {
   "cell_type": "markdown",
   "id": "5cc58eb7-9fea-4d3e-ac73-df65a8bd4633",
   "metadata": {},
   "source": [
    "## Processing"
   ]
  },
  {
   "cell_type": "markdown",
   "id": "53ec7a0a-a802-4b82-b255-e0d7dda56556",
   "metadata": {},
   "source": [
    "### Early convnet"
   ]
  },
  {
   "cell_type": "code",
   "execution_count": 9,
   "id": "e063b9f9-2645-41f7-b15b-4c5d1ffe08b7",
   "metadata": {},
   "outputs": [],
   "source": [
    "from src.data.pipelines import convnet_pipeline\n",
    "from src.models import early_convnet\n",
    "\n",
    "import tensorflow as tf"
   ]
  },
  {
   "cell_type": "markdown",
   "id": "fc4220da-b459-402d-be89-077f24427ae4",
   "metadata": {},
   "source": [
    "### Pipeline"
   ]
  },
  {
   "cell_type": "code",
   "execution_count": 2,
   "id": "25cff413-91e3-4b75-a68b-1dcf6997213a",
   "metadata": {},
   "outputs": [],
   "source": [
    "BATCH_SIZE_IMAGES = 1\n",
    "BATCH_SIZE_PATCHES = 1\n",
    "IMAGE_SIZE = 224\n",
    "PATCH_SIZE = 40\n",
    "PATCH_SIZE_ANNOTATION = 2\n",
    "PATCH_STRIDE = 1\n",
    "SLICE_TRAIN = ':1'\n",
    "SLICE_VALID = ':1'\n",
    "SLICE_TEST = '85%:'"
   ]
  },
  {
   "cell_type": "code",
   "execution_count": 3,
   "id": "f09d1d61-1a17-4636-8892-1a18e6c14433",
   "metadata": {},
   "outputs": [
    {
     "name": "stderr",
     "output_type": "stream",
     "text": [
      "2024-02-19 16:07:57.527689: I tensorflow/core/common_runtime/process_util.cc:146] Creating new thread pool with default inter op setting: 2. Tune using inter_op_parallelism_threads for best performance.\n"
     ]
    }
   ],
   "source": [
    "input_pipeline = convnet_pipeline.ConvnetPipeline(\n",
    "    SLICE_TRAIN,\n",
    "    SLICE_VALID,\n",
    "    SLICE_TEST,\n",
    "    BATCH_SIZE_IMAGES,\n",
    "    BATCH_SIZE_PATCHES,\n",
    "    IMAGE_SIZE,\n",
    "    PATCH_SIZE,\n",
    "    PATCH_SIZE_ANNOTATION,\n",
    "    PATCH_STRIDE\n",
    ")"
   ]
  },
  {
   "cell_type": "markdown",
   "id": "fee0f511-79fc-4716-8a50-6075660d476e",
   "metadata": {},
   "source": [
    "### Model"
   ]
  },
  {
   "cell_type": "code",
   "execution_count": 15,
   "id": "2f348d2c-e749-4732-95e6-1d48d49dcfdc",
   "metadata": {},
   "outputs": [
    {
     "name": "stdout",
     "output_type": "stream",
     "text": [
      "(34225, 40, 40, 3)\n",
      "(1, 224, 224, 3)\n",
      "(1, 224, 224, 7)\n",
      "tf.Tensor([b'434243.jpg'], shape=(1,), dtype=string)\n",
      "1070/1070 [==============================] - 9s 8ms/step\n",
      "(1, 185, 185, 7)\n"
     ]
    }
   ],
   "source": [
    "model = early_convnet.EarlyConvnet()\n",
    "model.build((None, PATCH_SIZE, PATCH_SIZE, 3))\n",
    "# model.load_weights(latest)\n",
    "\n",
    "for patches, _, img, mask, file_name in input_pipeline.test:\n",
    "    print(patches.shape)\n",
    "    print(img.shape)\n",
    "    print(mask.shape)\n",
    "    print(file_name)\n",
    "    mask_pred = tf.reshape(model.predict(patches), shape=(1, 185, 185, 7))\n",
    "    print(mask_pred.shape)\n",
    "    break"
   ]
  },
  {
   "cell_type": "markdown",
   "id": "bc5e776a-004e-4385-b2f2-10754daaba2b",
   "metadata": {},
   "source": [
    "### FCN-8s"
   ]
  },
  {
   "cell_type": "markdown",
   "id": "8adecbf8-e1e0-45a6-8ef4-7db84aa599e4",
   "metadata": {},
   "source": [
    "### U-Net"
   ]
  },
  {
   "cell_type": "markdown",
   "id": "aa9409d1-6756-4c15-8848-5af59eb071fd",
   "metadata": {},
   "source": [
    "## Comparison"
   ]
  }
 ],
 "metadata": {
  "kernelspec": {
   "display_name": "Python 3 (ipykernel)",
   "language": "python",
   "name": "python3"
  },
  "language_info": {
   "codemirror_mode": {
    "name": "ipython",
    "version": 3
   },
   "file_extension": ".py",
   "mimetype": "text/x-python",
   "name": "python",
   "nbconvert_exporter": "python",
   "pygments_lexer": "ipython3",
   "version": "3.10.12"
  }
 },
 "nbformat": 4,
 "nbformat_minor": 5
}
