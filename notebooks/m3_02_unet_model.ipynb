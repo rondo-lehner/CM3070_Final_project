{
 "cells": [
  {
   "cell_type": "code",
   "execution_count": 1,
   "id": "2238aecc-8fd7-4cd5-be38-d36d16ae3c5b",
   "metadata": {},
   "outputs": [
    {
     "name": "stderr",
     "output_type": "stream",
     "text": [
      "/usr/local/lib/python3.10/site-packages/tqdm/auto.py:21: TqdmWarning: IProgress not found. Please update jupyter and ipywidgets. See https://ipywidgets.readthedocs.io/en/stable/user_install.html\n",
      "  from .autonotebook import tqdm as notebook_tqdm\n",
      "2024-02-13 21:33:33.854864: I tensorflow/core/platform/cpu_feature_guard.cc:182] This TensorFlow binary is optimized to use available CPU instructions in performance-critical operations.\n",
      "To enable the following instructions: AVX512F, in other operations, rebuild TensorFlow with the appropriate compiler flags.\n"
     ]
    }
   ],
   "source": [
    "from src.data.pipelines import unet_pipeline\n",
    "from src.models import unet\n",
    "\n",
    "import matplotlib.pyplot as plt\n",
    "import numpy as np\n",
    "import os\n",
    "import tensorflow as tf\n",
    "import tensorflow_datasets as tfds\n",
    "\n",
    "import src.data.datasets.deep_globe_2018"
   ]
  },
  {
   "cell_type": "code",
   "execution_count": 2,
   "id": "2241c2e3-b881-4975-b49f-9f3449dcf075",
   "metadata": {},
   "outputs": [
    {
     "name": "stderr",
     "output_type": "stream",
     "text": [
      "2024-02-13 21:33:36.182274: I tensorflow/core/common_runtime/process_util.cc:146] Creating new thread pool with default inter op setting: 2. Tune using inter_op_parallelism_threads for best performance.\n"
     ]
    }
   ],
   "source": [
    "unet = unet.getUNet()"
   ]
  },
  {
   "cell_type": "code",
   "execution_count": 3,
   "id": "771448f0-2505-4593-8770-c9cac0b6a348",
   "metadata": {},
   "outputs": [
    {
     "name": "stdout",
     "output_type": "stream",
     "text": [
      "Model: \"model\"\n",
      "__________________________________________________________________________________________________\n",
      " Layer (type)                Output Shape                 Param #   Connected to                  \n",
      "==================================================================================================\n",
      " input_1 (InputLayer)        [(None, 572, 572, 3)]        0         []                            \n",
      "                                                                                                  \n",
      " contracting_block (Contrac  (None, 284, 284, 64)         38720     ['input_1[0][0]']             \n",
      " tingBlock)                                                                                       \n",
      "                                                                                                  \n",
      " contracting_block_1 (Contr  (None, 140, 140, 256)        737792    ['contracting_block[0][0]']   \n",
      " actingBlock)                                                                                     \n",
      "                                                                                                  \n",
      " contracting_block_2 (Contr  (None, 68, 68, 576)          4314240   ['contracting_block_1[0][0]'] \n",
      " actingBlock)                                                                                     \n",
      "                                                                                                  \n",
      " contracting_block_3 (Contr  (None, 32, 32, 1024)         1474764   ['contracting_block_2[0][0]'] \n",
      " actingBlock)                                             8                                       \n",
      "                                                                                                  \n",
      " conv2d_8 (Conv2D)           (None, 30, 30, 1024)         9438208   ['contracting_block_3[0][0]'] \n",
      "                                                                                                  \n",
      " conv2d_9 (Conv2D)           (None, 28, 28, 1024)         9438208   ['conv2d_8[0][0]']            \n",
      "                                                                                                  \n",
      " expansive_block (Expansive  (None, 52, 52, 1024)         2838016   ['conv2d_9[0][0]',            \n",
      " Block)                                                   0          'contracting_block_2[0][0]'] \n",
      "                                                                                                  \n",
      " expansive_block_1 (Expansi  (None, 100, 100, 576)        9660096   ['expansive_block[0][0]',     \n",
      " veBlock)                                                            'contracting_block_1[0][0]'] \n",
      "                                                                                                  \n",
      " expansive_block_2 (Expansi  (None, 196, 196, 256)        1917696   ['expansive_block_1[0][0]',   \n",
      " veBlock)                                                            'contracting_block[0][0]']   \n",
      "                                                                                                  \n",
      " expansive_block_3 (Expansi  (None, 388, 388, 64)         286912    ['expansive_block_2[0][0]',   \n",
      " veBlock)                                                            'expansive_block_2[0][0]']   \n",
      "                                                                                                  \n",
      " conv2d_18 (Conv2D)          (None, 388, 388, 7)          455       ['expansive_block_3[0][0]']   \n",
      "                                                                                                  \n",
      "==================================================================================================\n",
      "Total params: 78960135 (301.21 MB)\n",
      "Trainable params: 78960135 (301.21 MB)\n",
      "Non-trainable params: 0 (0.00 Byte)\n",
      "__________________________________________________________________________________________________\n"
     ]
    }
   ],
   "source": [
    "unet.summary()"
   ]
  },
  {
   "cell_type": "code",
   "execution_count": 3,
   "id": "75d2ef62-b507-496b-b6ff-92a1a684b3ef",
   "metadata": {},
   "outputs": [
    {
     "name": "stdout",
     "output_type": "stream",
     "text": [
      "Model: \"model\"\n",
      "_________________________________________________________________\n",
      " Layer (type)                Output Shape              Param #   \n",
      "=================================================================\n",
      " input_1 (InputLayer)        [(None, 572, 572, 3)]     0         \n",
      "                                                                 \n",
      " contracting_block (Contrac  (None, 284, 284, 64)      38720     \n",
      " tingBlock)                                                      \n",
      "                                                                 \n",
      " contracting_block_1 (Contr  (None, 140, 140, 256)     737792    \n",
      " actingBlock)                                                    \n",
      "                                                                 \n",
      " contracting_block_2 (Contr  (None, 68, 68, 576)       4314240   \n",
      " actingBlock)                                                    \n",
      "                                                                 \n",
      " contracting_block_3 (Contr  (None, 32, 32, 1024)      14747648  \n",
      " actingBlock)                                                    \n",
      "                                                                 \n",
      "=================================================================\n",
      "Total params: 19838400 (75.68 MB)\n",
      "Trainable params: 19838400 (75.68 MB)\n",
      "Non-trainable params: 0 (0.00 Byte)\n",
      "_________________________________________________________________\n"
     ]
    }
   ],
   "source": [
    "# Contracting blocks only\n",
    "unet.summary()"
   ]
  },
  {
   "cell_type": "code",
   "execution_count": 15,
   "id": "8a0f805e-16ee-44a1-907b-6818c7739063",
   "metadata": {},
   "outputs": [
    {
     "name": "stdout",
     "output_type": "stream",
     "text": [
      "Model: \"contracting_block\"\n",
      "_________________________________________________________________\n",
      " Layer (type)                Output Shape              Param #   \n",
      "=================================================================\n",
      " conv2d (Conv2D)             (None, 570, 570, 64)      1792      \n",
      "                                                                 \n",
      " conv2d_1 (Conv2D)           (None, 568, 568, 64)      36928     \n",
      "                                                                 \n",
      " max_pooling2d (MaxPooling2  (None, 284, 284, 64)      0         \n",
      " D)                                                              \n",
      "                                                                 \n",
      "=================================================================\n",
      "Total params: 38720 (151.25 KB)\n",
      "Trainable params: 38720 (151.25 KB)\n",
      "Non-trainable params: 0 (0.00 Byte)\n",
      "_________________________________________________________________\n",
      "Model: \"contracting_block_1\"\n",
      "_________________________________________________________________\n",
      " Layer (type)                Output Shape              Param #   \n",
      "=================================================================\n",
      " conv2d_2 (Conv2D)           (None, 282, 282, 256)     147712    \n",
      "                                                                 \n",
      " conv2d_3 (Conv2D)           (None, 280, 280, 256)     590080    \n",
      "                                                                 \n",
      " max_pooling2d_1 (MaxPoolin  (None, 140, 140, 256)     0         \n",
      " g2D)                                                            \n",
      "                                                                 \n",
      "=================================================================\n",
      "Total params: 737792 (2.81 MB)\n",
      "Trainable params: 737792 (2.81 MB)\n",
      "Non-trainable params: 0 (0.00 Byte)\n",
      "_________________________________________________________________\n",
      "Model: \"contracting_block_2\"\n",
      "_________________________________________________________________\n",
      " Layer (type)                Output Shape              Param #   \n",
      "=================================================================\n",
      " conv2d_4 (Conv2D)           (None, 138, 138, 576)     1327680   \n",
      "                                                                 \n",
      " conv2d_5 (Conv2D)           (None, 136, 136, 576)     2986560   \n",
      "                                                                 \n",
      " max_pooling2d_2 (MaxPoolin  (None, 68, 68, 576)       0         \n",
      " g2D)                                                            \n",
      "                                                                 \n",
      "=================================================================\n",
      "Total params: 4314240 (16.46 MB)\n",
      "Trainable params: 4314240 (16.46 MB)\n",
      "Non-trainable params: 0 (0.00 Byte)\n",
      "_________________________________________________________________\n",
      "Model: \"contracting_block_3\"\n",
      "_________________________________________________________________\n",
      " Layer (type)                Output Shape              Param #   \n",
      "=================================================================\n",
      " conv2d_6 (Conv2D)           (None, 66, 66, 1024)      5309440   \n",
      "                                                                 \n",
      " conv2d_7 (Conv2D)           (None, 64, 64, 1024)      9438208   \n",
      "                                                                 \n",
      " max_pooling2d_3 (MaxPoolin  (None, 32, 32, 1024)      0         \n",
      " g2D)                                                            \n",
      "                                                                 \n",
      "=================================================================\n",
      "Total params: 14747648 (56.26 MB)\n",
      "Trainable params: 14747648 (56.26 MB)\n",
      "Non-trainable params: 0 (0.00 Byte)\n",
      "_________________________________________________________________\n"
     ]
    }
   ],
   "source": [
    "# Verify that contracting_blocks are constructed correctly\n",
    "for i, layer in enumerate(unet.layers):\n",
    "    if i==0:\n",
    "        continue\n",
    "    else:\n",
    "        layer.call(inputs=unet.layers[i-1].output)\n",
    "        layer.summary()"
   ]
  }
 ],
 "metadata": {
  "kernelspec": {
   "display_name": "Python 3 (ipykernel)",
   "language": "python",
   "name": "python3"
  },
  "language_info": {
   "codemirror_mode": {
    "name": "ipython",
    "version": 3
   },
   "file_extension": ".py",
   "mimetype": "text/x-python",
   "name": "python",
   "nbconvert_exporter": "python",
   "pygments_lexer": "ipython3",
   "version": "3.10.12"
  }
 },
 "nbformat": 4,
 "nbformat_minor": 5
}
